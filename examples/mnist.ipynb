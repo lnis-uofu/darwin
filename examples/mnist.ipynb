{
 "cells": [
  {
   "cell_type": "markdown",
   "metadata": {},
   "source": [
    "# Image Classification with MNIST"
   ]
  },
  {
   "cell_type": "markdown",
   "metadata": {},
   "source": [
    "## Import Libraries"
   ]
  },
  {
   "cell_type": "code",
   "execution_count": 1,
   "metadata": {},
   "outputs": [],
   "source": [
    "from darwin.networks import EchoStateNetwork\n",
    "from darwin.activations import fast_sigmoid_activation\n",
    "\n",
    "import numpy as np\n",
    "import tensorflow as tf\n",
    "import matplotlib.pyplot as plt\n",
    "\n",
    "from tensorflow.keras.utils import to_categorical\n",
    "from tensorflow.keras.datasets import mnist\n",
    "from qkeras.quantizers import quantized_relu\n",
    "\n",
    "%matplotlib inline"
   ]
  },
  {
   "cell_type": "markdown",
   "metadata": {},
   "source": [
    "## MNIST Dataset Preparation"
   ]
  },
  {
   "cell_type": "code",
   "execution_count": 2,
   "metadata": {},
   "outputs": [],
   "source": [
    "num_classes = 10\n",
    "\n",
    "(X_train, y_train), (X_test, y_test) = mnist.load_data()\n",
    "\n",
    "X_train = X_train.astype('float32')\n",
    "X_test = X_test.astype('float32')\n",
    "X_train /= 255\n",
    "X_test /= 255\n",
    "\n",
    "\n",
    "X_train = X_train.reshape(60000, 784)\n",
    "X_test = X_test.reshape(10000, 784)\n",
    "\n",
    "y_train = to_categorical(y_train, num_classes)\n",
    "y_test = to_categorical(y_test, num_classes)"
   ]
  },
  {
   "cell_type": "markdown",
   "metadata": {},
   "source": [
    "## Generate the Echo State Network"
   ]
  },
  {
   "cell_type": "code",
   "execution_count": 3,
   "metadata": {},
   "outputs": [
    {
     "name": "stderr",
     "output_type": "stream",
     "text": [
      "/Users/valerio/miniconda3/envs/test/lib/python3.9/site-packages/keras/optimizer_v2/gradient_descent.py:102: UserWarning: The `lr` argument is deprecated, use `learning_rate` instead.\n",
      "  super(SGD, self).__init__(name, **kwargs)\n",
      "2022-01-27 17:33:33.998954: I tensorflow/core/platform/cpu_feature_guard.cc:151] This TensorFlow binary is optimized with oneAPI Deep Neural Network Library (oneDNN) to use the following CPU instructions in performance-critical operations:  AVX2 FMA\n",
      "To enable them in other operations, rebuild TensorFlow with the appropriate compiler flags.\n"
     ]
    }
   ],
   "source": [
    "nodes = 150\n",
    "esn = EchoStateNetwork(\n",
    "    n_inputs=X_train.shape[1],\n",
    "    n_outputs=num_classes,\n",
    "    n_neurons=nodes,\n",
    "    sparsity=0.8,\n",
    "    spectral_radius=0.45,\n",
    "    activation=fast_sigmoid_activation,\n",
    "    nbit_quant=6,\n",
    "    readout_layer= {\n",
    "        'type': 'MultiLayerDense',\n",
    "        'hyper_params': {\n",
    "            'layers': [\n",
    "                {'units': 80, 'activation': quantized_relu},\n",
    "                {'units': num_classes, 'activation': 'softmax'}\n",
    "            ],\n",
    "            'optimizer': tf.keras.optimizers.SGD(lr=0.1, momentum=0.000005, nesterov=True),\n",
    "            'loss': tf.keras.losses.categorical_crossentropy,\n",
    "            'metrics': ['accuracy'],\n",
    "        }\n",
    "    },\n",
    "    seed=0\n",
    ")"
   ]
  },
  {
   "cell_type": "markdown",
   "metadata": {},
   "source": [
    "## Train the Readout Layer"
   ]
  },
  {
   "cell_type": "code",
   "execution_count": 4,
   "metadata": {
    "tags": []
   },
   "outputs": [
    {
     "name": "stdout",
     "output_type": "stream",
     "text": [
      "Epoch 1/10\n",
      "1875/1875 [==============================] - 6s 3ms/step - loss: 0.5619 - accuracy: 0.8668 - val_loss: 0.3882 - val_accuracy: 0.9141\n",
      "Epoch 2/10\n",
      "1875/1875 [==============================] - 8s 4ms/step - loss: 0.3714 - accuracy: 0.9195 - val_loss: 0.3524 - val_accuracy: 0.9248\n",
      "Epoch 3/10\n",
      "1875/1875 [==============================] - 7s 4ms/step - loss: 0.3291 - accuracy: 0.9322 - val_loss: 0.3220 - val_accuracy: 0.9356\n",
      "Epoch 4/10\n",
      "1875/1875 [==============================] - 6s 3ms/step - loss: 0.3072 - accuracy: 0.9391 - val_loss: 0.3084 - val_accuracy: 0.9397\n",
      "Epoch 5/10\n",
      "1875/1875 [==============================] - 6s 3ms/step - loss: 0.2947 - accuracy: 0.9430 - val_loss: 0.2953 - val_accuracy: 0.9416\n",
      "Epoch 6/10\n",
      "1875/1875 [==============================] - 7s 4ms/step - loss: 0.2841 - accuracy: 0.9476 - val_loss: 0.2983 - val_accuracy: 0.9436\n",
      "Epoch 7/10\n",
      "1875/1875 [==============================] - 7s 4ms/step - loss: 0.2776 - accuracy: 0.9500 - val_loss: 0.2937 - val_accuracy: 0.9448\n",
      "Epoch 8/10\n",
      "1875/1875 [==============================] - 7s 3ms/step - loss: 0.2723 - accuracy: 0.9520 - val_loss: 0.2977 - val_accuracy: 0.9445\n",
      "Epoch 9/10\n",
      "1875/1875 [==============================] - 7s 4ms/step - loss: 0.2671 - accuracy: 0.9542 - val_loss: 0.2948 - val_accuracy: 0.9451\n",
      "Epoch 10/10\n",
      "1875/1875 [==============================] - 7s 4ms/step - loss: 0.2641 - accuracy: 0.9563 - val_loss: 0.2937 - val_accuracy: 0.9448\n"
     ]
    }
   ],
   "source": [
    "history = esn.fit(\n",
    "    X_train=X_train,\n",
    "    y_train=y_train,\n",
    "    X_val=X_test,\n",
    "    y_val=y_test,\n",
    "    batch_size=32,\n",
    "    epochs=10\n",
    "    )"
   ]
  },
  {
   "cell_type": "markdown",
   "metadata": {},
   "source": [
    "## Print Validation Accuracy"
   ]
  },
  {
   "cell_type": "code",
   "execution_count": 5,
   "metadata": {},
   "outputs": [
    {
     "name": "stdout",
     "output_type": "stream",
     "text": [
      "Validation accuracy: 94.48%\n"
     ]
    }
   ],
   "source": [
    "val_accuracy = history.history['val_accuracy'][-1] * 100\n",
    "print(f'Validation accuracy: {val_accuracy:.2f}%')"
   ]
  },
  {
   "cell_type": "markdown",
   "metadata": {},
   "source": [
    "## Let's Predict an Image"
   ]
  },
  {
   "cell_type": "code",
   "execution_count": 6,
   "metadata": {},
   "outputs": [
    {
     "name": "stdout",
     "output_type": "stream",
     "text": [
      "Predicted label: 5\n",
      "Actual label: 5\n"
     ]
    }
   ],
   "source": [
    "img_idx = 897 # Index number of an image in the test set\n",
    "\n",
    "pred_proba = esn.predict(X_test[img_idx].reshape(1, -1))\n",
    "pred_label = np.argmax(pred_proba)\n",
    "\n",
    "print(f'Predicted label: {pred_label}')\n",
    "print(f'Actual label: {np.argmax(y_test[img_idx])}')"
   ]
  },
  {
   "cell_type": "code",
   "execution_count": 7,
   "metadata": {},
   "outputs": [
    {
     "data": {
      "text/plain": [
       "<matplotlib.image.AxesImage at 0x7f859f6f3520>"
      ]
     },
     "execution_count": 7,
     "metadata": {},
     "output_type": "execute_result"
    },
    {
     "data": {
      "image/png": "[encoded data removed]",
      "text/plain": [
       "<Figure size 432x288 with 1 Axes>"
      ]
     },
     "metadata": {
      "needs_background": "light"
     },
     "output_type": "display_data"
    }
   ],
   "source": [
    "plt.imshow(X_test[img_idx].reshape(28, 28), cmap='Greys')"
   ]
  }
 ],
 "metadata": {
  "interpreter": {
   "hash": "1c718a15051bea68e22254e457cc78b370c774733f6d229c0d2cb294bed4f125"
  },
  "kernelspec": {
   "display_name": "Python 3.7.9 64-bit ('nn': conda)",
   "language": "python",
   "name": "python3"
  },
  "language_info": {
   "codemirror_mode": {
    "name": "ipython",
    "version": 3
   },
   "file_extension": ".py",
   "mimetype": "text/x-python",
   "name": "python",
   "nbconvert_exporter": "python",
   "pygments_lexer": "ipython3",
   "version": "3.9.7"
  },
  "orig_nbformat": 2
 },
 "nbformat": 4,
 "nbformat_minor": 2
}
