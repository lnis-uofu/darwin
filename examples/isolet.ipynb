{
 "cells": [
  {
   "cell_type": "markdown",
   "metadata": {},
   "source": [
    "# Classification of Spoken Letters with the ISOLET Dataset"
   ]
  },
  {
   "cell_type": "markdown",
   "metadata": {},
   "source": [
    "## Import Libraries"
   ]
  },
  {
   "cell_type": "code",
   "execution_count": 1,
   "metadata": {},
   "outputs": [],
   "source": [
    "import pandas as pd\n",
    "import numpy as np\n",
    "import tensorflow as tf\n",
    "\n",
    "from darwin.networks import EchoStateNetwork\n",
    "from darwin.activations import sigmoid_activation\n",
    "\n",
    "from qkeras.quantizers import quantized_relu"
   ]
  },
  {
   "cell_type": "markdown",
   "metadata": {},
   "source": [
    "## Pre-processing of the ISOLET Dataset"
   ]
  },
  {
   "cell_type": "code",
   "execution_count": 2,
   "metadata": {},
   "outputs": [],
   "source": [
    "# Download the training and validation ISOLET datasets from https://archive.ics.uci.edu/ml/machine-learning-databases/isolet/\n",
    "# Store somewhere on your system, and include their path in the read_csv instructions below.\n",
    "\n",
    "df = pd.read_csv('../sandbox/datasets/isolet1+2+3+4.data', sep=',', header=0)\n",
    "X_train = df[df.columns[:-1]].to_numpy()\n",
    "y_train = df[df.columns[-1]].to_numpy() - 1\n",
    "\n",
    "df = pd.read_csv('../sandbox/datasets/isolet5.data', sep=',', header=0)\n",
    "X_test = df[df.columns[:-1]].to_numpy()\n",
    "y_test = df[df.columns[-1]].to_numpy() - 1\n",
    "\n",
    "num_classes = 26\n",
    "y_train = tf.keras.utils.to_categorical(y_train, num_classes)\n",
    "y_test = tf.keras.utils.to_categorical(y_test, num_classes)"
   ]
  },
  {
   "cell_type": "markdown",
   "metadata": {},
   "source": [
    "## Build the Binary ESN Model"
   ]
  },
  {
   "cell_type": "code",
   "execution_count": 3,
   "metadata": {},
   "outputs": [
    {
     "name": "stderr",
     "output_type": "stream",
     "text": [
      "/Users/valerio/miniconda3/envs/test/lib/python3.9/site-packages/keras/optimizer_v2/adadelta.py:74: UserWarning: The `lr` argument is deprecated, use `learning_rate` instead.\n",
      "  super(Adadelta, self).__init__(name, **kwargs)\n",
      "2022-01-27 17:25:03.052446: I tensorflow/core/platform/cpu_feature_guard.cc:151] This TensorFlow binary is optimized with oneAPI Deep Neural Network Library (oneDNN) to use the following CPU instructions in performance-critical operations:  AVX2 FMA\n",
      "To enable them in other operations, rebuild TensorFlow with the appropriate compiler flags.\n"
     ]
    }
   ],
   "source": [
    "nodes = 300\n",
    "esn = EchoStateNetwork(\n",
    "    n_inputs=X_train.shape[1],\n",
    "    n_outputs=num_classes,\n",
    "    n_neurons=nodes,\n",
    "    sparsity=0.6,\n",
    "    spectral_radius=None,\n",
    "    activation=sigmoid_activation,\n",
    "    nbit_quant=6,\n",
    "    readout_layer= {\n",
    "        'type': 'MultiLayerDense',\n",
    "        'hyper_params': {\n",
    "            'layers': [\n",
    "                {'units': 60, 'activation': quantized_relu},\n",
    "                {'units': num_classes, 'activation': 'softmax'}\n",
    "            ],\n",
    "            'optimizer': tf.keras.optimizers.Adadelta(lr=0.5),\n",
    "            'loss': tf.keras.losses.categorical_crossentropy,\n",
    "            'metrics': ['accuracy'],\n",
    "        }\n",
    "    },\n",
    "    seed=0\n",
    ")"
   ]
  },
  {
   "cell_type": "markdown",
   "metadata": {},
   "source": [
    "## Train the Readout Layer"
   ]
  },
  {
   "cell_type": "code",
   "execution_count": 4,
   "metadata": {
    "tags": []
   },
   "outputs": [
    {
     "name": "stdout",
     "output_type": "stream",
     "text": [
      "Epoch 1/20\n",
      "98/98 [==============================] - 1s 6ms/step - loss: 2.9193 - accuracy: 0.3083 - val_loss: 2.4468 - val_accuracy: 0.5379\n",
      "Epoch 2/20\n",
      "98/98 [==============================] - 0s 2ms/step - loss: 2.0850 - accuracy: 0.6431 - val_loss: 1.7977 - val_accuracy: 0.7150\n",
      "Epoch 3/20\n",
      "98/98 [==============================] - 0s 2ms/step - loss: 1.5715 - accuracy: 0.7677 - val_loss: 1.4201 - val_accuracy: 0.7734\n",
      "Epoch 4/20\n",
      "98/98 [==============================] - 0s 3ms/step - loss: 1.2605 - accuracy: 0.8207 - val_loss: 1.1844 - val_accuracy: 0.8286\n",
      "Epoch 5/20\n",
      "98/98 [==============================] - 0s 3ms/step - loss: 1.0584 - accuracy: 0.8430 - val_loss: 1.0307 - val_accuracy: 0.8370\n",
      "Epoch 6/20\n",
      "98/98 [==============================] - 0s 2ms/step - loss: 0.9129 - accuracy: 0.8727 - val_loss: 0.8967 - val_accuracy: 0.8460\n",
      "Epoch 7/20\n",
      "98/98 [==============================] - 0s 2ms/step - loss: 0.8118 - accuracy: 0.8823 - val_loss: 0.8190 - val_accuracy: 0.8607\n",
      "Epoch 8/20\n",
      "98/98 [==============================] - 0s 3ms/step - loss: 0.7372 - accuracy: 0.8890 - val_loss: 0.7686 - val_accuracy: 0.8620\n",
      "Epoch 9/20\n",
      "98/98 [==============================] - 0s 2ms/step - loss: 0.6737 - accuracy: 0.9036 - val_loss: 0.6981 - val_accuracy: 0.8716\n",
      "Epoch 10/20\n",
      "98/98 [==============================] - 0s 3ms/step - loss: 0.6251 - accuracy: 0.9113 - val_loss: 0.6596 - val_accuracy: 0.8800\n",
      "Epoch 11/20\n",
      "98/98 [==============================] - 0s 2ms/step - loss: 0.5839 - accuracy: 0.9158 - val_loss: 0.6507 - val_accuracy: 0.8793\n",
      "Epoch 12/20\n",
      "98/98 [==============================] - 0s 3ms/step - loss: 0.5488 - accuracy: 0.9210 - val_loss: 0.6124 - val_accuracy: 0.8755\n",
      "Epoch 13/20\n",
      "98/98 [==============================] - 0s 3ms/step - loss: 0.5200 - accuracy: 0.9250 - val_loss: 0.5763 - val_accuracy: 0.9012\n",
      "Epoch 14/20\n",
      "98/98 [==============================] - 0s 2ms/step - loss: 0.4949 - accuracy: 0.9301 - val_loss: 0.5669 - val_accuracy: 0.8928\n",
      "Epoch 15/20\n",
      "98/98 [==============================] - 0s 3ms/step - loss: 0.4727 - accuracy: 0.9323 - val_loss: 0.5566 - val_accuracy: 0.8979\n",
      "Epoch 16/20\n",
      "98/98 [==============================] - 0s 2ms/step - loss: 0.4553 - accuracy: 0.9367 - val_loss: 0.5428 - val_accuracy: 0.8973\n",
      "Epoch 17/20\n",
      "98/98 [==============================] - 0s 2ms/step - loss: 0.4368 - accuracy: 0.9410 - val_loss: 0.5338 - val_accuracy: 0.8979\n",
      "Epoch 18/20\n",
      "98/98 [==============================] - 0s 3ms/step - loss: 0.4238 - accuracy: 0.9429 - val_loss: 0.5106 - val_accuracy: 0.9050\n",
      "Epoch 19/20\n",
      "98/98 [==============================] - 0s 3ms/step - loss: 0.4094 - accuracy: 0.9461 - val_loss: 0.5094 - val_accuracy: 0.9050\n",
      "Epoch 20/20\n",
      "98/98 [==============================] - 0s 3ms/step - loss: 0.3976 - accuracy: 0.9468 - val_loss: 0.4963 - val_accuracy: 0.9024\n"
     ]
    }
   ],
   "source": [
    "history = esn.fit(\n",
    "    X_train=X_train,\n",
    "    y_train=y_train,\n",
    "    X_val=X_test,\n",
    "    y_val=y_test,\n",
    "    batch_size=64,\n",
    "    epochs=20\n",
    ")"
   ]
  },
  {
   "cell_type": "markdown",
   "metadata": {},
   "source": [
    "## Print Validation Accuracy"
   ]
  },
  {
   "cell_type": "code",
   "execution_count": 5,
   "metadata": {},
   "outputs": [
    {
     "name": "stdout",
     "output_type": "stream",
     "text": [
      "Validation accuracy: 90.24%\n"
     ]
    }
   ],
   "source": [
    "val_accuracy = history.history['val_accuracy'][-1] * 100\n",
    "print(f'Validation accuracy: {val_accuracy:.2f}%')"
   ]
  },
  {
   "cell_type": "markdown",
   "metadata": {},
   "source": [
    "## Show the Summary Table"
   ]
  },
  {
   "cell_type": "code",
   "execution_count": 6,
   "metadata": {},
   "outputs": [
    {
     "name": "stdout",
     "output_type": "stream",
     "text": [
      "Model: Echo State Network\n",
      "________________________________________________________________________________\n",
      "Layer                               Neurons #                       Params #    \n",
      "================================================================================\n",
      "Reservoir                           300                             120         \n",
      "________________________________________________________________________________\n",
      "\n",
      "\n",
      "Model: \"sequential\"\n",
      "________________________________________________________________________________\n",
      " Layer (type)                       Output Shape                    Param #     \n",
      "================================================================================\n",
      " q_dense (QDense)                   (None, 60)                      18060       \n",
      "                                                                                \n",
      " q_activation (QActivation)         (None, 60)                      0           \n",
      "                                                                                \n",
      " q_dense_1 (QDense)                 (None, 26)                      1586        \n",
      "                                                                                \n",
      " activation (Activation)            (None, 26)                      0           \n",
      "                                                                                \n",
      "================================================================================\n",
      "Total params: 19,646\n",
      "Trainable params: 19,646\n",
      "Non-trainable params: 0\n",
      "________________________________________________________________________________\n"
     ]
    }
   ],
   "source": [
    "esn.summary()"
   ]
  }
 ],
 "metadata": {
  "interpreter": {
   "hash": "1c718a15051bea68e22254e457cc78b370c774733f6d229c0d2cb294bed4f125"
  },
  "kernelspec": {
   "display_name": "Python 3.7.9 64-bit ('nn': conda)",
   "language": "python",
   "name": "python3"
  },
  "language_info": {
   "codemirror_mode": {
    "name": "ipython",
    "version": 3
   },
   "file_extension": ".py",
   "mimetype": "text/x-python",
   "name": "python",
   "nbconvert_exporter": "python",
   "pygments_lexer": "ipython3",
   "version": "3.9.7"
  },
  "orig_nbformat": 2
 },
 "nbformat": 4,
 "nbformat_minor": 2
}
